{
 "cells": [
  {
   "cell_type": "code",
   "execution_count": 5,
   "metadata": {},
   "outputs": [],
   "source": [
    "import PyPDF2\n",
    "\n",
    "pdfobject = open('sample.pdf', 'rb') # creating pdf file object\n",
    "pdfReader = PyPDF2.PdfFileReader(pdfobject)"
   ]
  },
  {
   "cell_type": "code",
   "execution_count": 7,
   "metadata": {},
   "outputs": [
    {
     "data": {
      "text/plain": [
       "{'/Author': 'IEOR',\n",
       " '/Creator': 'Microsoft® Word 2016',\n",
       " '/CreationDate': \"D:20200119220654+08'00'\",\n",
       " '/ModDate': \"D:20200119220654+08'00'\",\n",
       " '/Producer': 'Microsoft® Word 2016'}"
      ]
     },
     "execution_count": 7,
     "metadata": {},
     "output_type": "execute_result"
    }
   ],
   "source": [
    "import PyPDF2\n",
    "\n",
    "pdfobject = open('sample.pdf', 'rb') # creating pdf file object\n",
    "pdfReader = PyPDF2.PdfFileReader(pdfobject)\n",
    " \n",
    "pdfReader.getDocumentInfo() # getting document info"
   ]
  },
  {
   "cell_type": "code",
   "execution_count": 9,
   "metadata": {},
   "outputs": [
    {
     "name": "stdout",
     "output_type": "stream",
     "text": [
      "Second\n",
      " \n",
      "Page\n",
      " \n",
      "February 2020\n",
      " \n",
      "Topic: Extracting content of PDF\n",
      " \n",
      "Sample File. Hello. Happy Learning. Sample Page. Extracting content of PDF files using \n",
      "python. Sample File. Second Page. \n",
      " \n",
      " \n",
      " \n",
      "End of Second Page\n",
      " \n",
      "\n"
     ]
    }
   ],
   "source": [
    "import PyPDF2\n",
    "\n",
    "pdfobject = open('sample.pdf', 'rb') # creating pdf file object\n",
    "pdfReader = PyPDF2.PdfFileReader(pdfobject)\n",
    "pageObject = pdfReader.getPage(1)\n",
    "print(pageObject.extractText()) # extract text from a specific page of a pdf file"
   ]
  },
  {
   "cell_type": "code",
   "execution_count": 11,
   "metadata": {},
   "outputs": [
    {
     "name": "stdout",
     "output_type": "stream",
     "text": [
      "First Page\n",
      " \n",
      "February 2020\n",
      " \n",
      "Topic: Extracting content of PDF\n",
      " \n",
      "Sample Page. Hello. Happy Learning. Sample Page. Extracting content of PDF files using \n",
      "python. Sample Page. First Page. \n",
      " \n",
      " \n",
      " \n",
      "End of First Page\n",
      " \n",
      " \n",
      " \n",
      " \n",
      " \n",
      " \n",
      " \n",
      " \n",
      " \n",
      " \n",
      " \n",
      " \n",
      " \n",
      " \n",
      " \n",
      " \n",
      " \n",
      " \n",
      " \n",
      " \n",
      " \n",
      " \n",
      " \n",
      " \n",
      " \n",
      " \n",
      "\n",
      "Second\n",
      " \n",
      "Page\n",
      " \n",
      "February 2020\n",
      " \n",
      "Topic: Extracting content of PDF\n",
      " \n",
      "Sample File. Hello. Happy Learning. Sample Page. Extracting content of PDF files using \n",
      "python. Sample File. Second Page. \n",
      " \n",
      " \n",
      " \n",
      "End of Second Page\n",
      " \n",
      "\n"
     ]
    }
   ],
   "source": [
    "import PyPDF2\n",
    "\n",
    "pdfobject = open('sample.pdf', 'rb') # creating pdf file object\n",
    "pdfReader = PyPDF2.PdfFileReader(pdfobject)\n",
    "\n",
    "x = pdfReader.numPages\n",
    "\n",
    "# for loop statement to extract the text data of all pages\n",
    "for i in range(x): \n",
    "    pageObject = pdfReader.getPage(i)\n",
    "    extracted = pageObject.extractText()\n",
    "    print(extracted)"
   ]
  },
  {
   "cell_type": "code",
   "execution_count": null,
   "metadata": {},
   "outputs": [],
   "source": []
  }
 ],
 "metadata": {
  "kernelspec": {
   "display_name": "Python 3",
   "language": "python",
   "name": "python3"
  },
  "language_info": {
   "codemirror_mode": {
    "name": "ipython",
    "version": 3
   },
   "file_extension": ".py",
   "mimetype": "text/x-python",
   "name": "python",
   "nbconvert_exporter": "python",
   "pygments_lexer": "ipython3",
   "version": "3.7.4"
  }
 },
 "nbformat": 4,
 "nbformat_minor": 2
}
