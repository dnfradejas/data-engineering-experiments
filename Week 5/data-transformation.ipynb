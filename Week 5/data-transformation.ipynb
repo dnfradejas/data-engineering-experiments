{
 "cells": [
  {
   "cell_type": "markdown",
   "metadata": {},
   "source": [
    "# Data Discretization"
   ]
  },
  {
   "cell_type": "code",
   "execution_count": 15,
   "metadata": {},
   "outputs": [],
   "source": [
    "employee_salaries = [20000, 30000, 25000, 14000, 17000, 30000, 35000,16500,31000,17000, 22500, 30000, 38000, 28000, 37000]"
   ]
  },
  {
   "cell_type": "raw",
   "metadata": {},
   "source": [
    "Less than 20,000; Low from 20,000 to 29,999; Mid 30,0000 or more; High "
   ]
  },
  {
   "cell_type": "code",
   "execution_count": 5,
   "metadata": {},
   "outputs": [
    {
     "name": "stdout",
     "output_type": "stream",
     "text": [
      "[20000, 30000, 25000, 14000, 17000, 30000, 35000, 16500, 31000, 17000, 22500, 30000, 38000, 28000, 37000]\n"
     ]
    }
   ],
   "source": [
    "print(employee_salaries)"
   ]
  },
  {
   "cell_type": "code",
   "execution_count": 7,
   "metadata": {},
   "outputs": [],
   "source": [
    "# conversion of numerical data to categorical\n",
    "\n",
    "for x in range (0,15):\n",
    "    if employee_salaries[x] < 20000:\n",
    "        employee_salaries[x] = \"Low\"\n",
    "    elif employee_salaries[x] < 30000:\n",
    "        employee_salaries[x] = \"Mid\"\n",
    "    else:\n",
    "        employee_salaries[x] = \"High\""
   ]
  },
  {
   "cell_type": "code",
   "execution_count": 8,
   "metadata": {},
   "outputs": [
    {
     "name": "stdout",
     "output_type": "stream",
     "text": [
      "['Mid', 'High', 'Mid', 'Low', 'Low', 'High', 'High', 'Low', 'High', 'Low', 'Mid', 'High', 'High', 'Mid', 'High']\n"
     ]
    }
   ],
   "source": [
    "print(employee_salaries)"
   ]
  },
  {
   "cell_type": "code",
   "execution_count": 9,
   "metadata": {},
   "outputs": [
    {
     "data": {
      "text/plain": [
       "4"
      ]
     },
     "execution_count": 9,
     "metadata": {},
     "output_type": "execute_result"
    }
   ],
   "source": [
    "employee_salaries.count(\"Mid\")"
   ]
  },
  {
   "cell_type": "markdown",
   "metadata": {},
   "source": [
    "# Variable Transformation"
   ]
  },
  {
   "cell_type": "code",
   "execution_count": 10,
   "metadata": {},
   "outputs": [
    {
     "name": "stdout",
     "output_type": "stream",
     "text": [
      "0\n",
      "1\n",
      "2\n",
      "3\n",
      "4\n",
      "5\n",
      "6\n",
      "7\n",
      "8\n",
      "9\n"
     ]
    }
   ],
   "source": [
    "x_int = 10\n",
    "for y in range(0,x_int):\n",
    "    print(y)"
   ]
  },
  {
   "cell_type": "code",
   "execution_count": 11,
   "metadata": {},
   "outputs": [
    {
     "ename": "TypeError",
     "evalue": "'float' object cannot be interpreted as an integer",
     "output_type": "error",
     "traceback": [
      "\u001b[1;31m---------------------------------------------------------------------------\u001b[0m",
      "\u001b[1;31mTypeError\u001b[0m                                 Traceback (most recent call last)",
      "\u001b[1;32m<ipython-input-11-aef36e2ea853>\u001b[0m in \u001b[0;36m<module>\u001b[1;34m\u001b[0m\n\u001b[0;32m      1\u001b[0m \u001b[0mx_float\u001b[0m \u001b[1;33m=\u001b[0m \u001b[1;36m10.0\u001b[0m\u001b[1;33m\u001b[0m\u001b[1;33m\u001b[0m\u001b[0m\n\u001b[1;32m----> 2\u001b[1;33m \u001b[1;32mfor\u001b[0m \u001b[0my\u001b[0m \u001b[1;32min\u001b[0m \u001b[0mrange\u001b[0m\u001b[1;33m(\u001b[0m\u001b[1;36m0\u001b[0m\u001b[1;33m,\u001b[0m \u001b[0mx_float\u001b[0m\u001b[1;33m)\u001b[0m\u001b[1;33m:\u001b[0m\u001b[1;33m\u001b[0m\u001b[1;33m\u001b[0m\u001b[0m\n\u001b[0m\u001b[0;32m      3\u001b[0m     \u001b[0mprint\u001b[0m\u001b[1;33m(\u001b[0m\u001b[0my\u001b[0m\u001b[1;33m)\u001b[0m\u001b[1;33m\u001b[0m\u001b[1;33m\u001b[0m\u001b[0m\n",
      "\u001b[1;31mTypeError\u001b[0m: 'float' object cannot be interpreted as an integer"
     ]
    }
   ],
   "source": [
    "x_float = 10.0\n",
    "for y in range(0, x_float):\n",
    "    print(y)"
   ]
  },
  {
   "cell_type": "code",
   "execution_count": 13,
   "metadata": {},
   "outputs": [
    {
     "name": "stdout",
     "output_type": "stream",
     "text": [
      "0\n",
      "1\n",
      "2\n",
      "3\n",
      "4\n",
      "5\n",
      "6\n",
      "7\n",
      "8\n",
      "9\n"
     ]
    }
   ],
   "source": [
    "x_float = 10.0\n",
    "for y in range(0, int(x_float)):\n",
    "    print(y)"
   ]
  },
  {
   "cell_type": "code",
   "execution_count": 14,
   "metadata": {},
   "outputs": [
    {
     "name": "stdout",
     "output_type": "stream",
     "text": [
      "0\n",
      "1\n",
      "2\n",
      "3\n",
      "4\n",
      "5\n",
      "6\n",
      "7\n",
      "8\n",
      "9\n"
     ]
    }
   ],
   "source": [
    "x_str = \"10.0\"\n",
    "for y in range(0, int(x_float)):\n",
    "    print(y)"
   ]
  },
  {
   "cell_type": "code",
   "execution_count": 15,
   "metadata": {},
   "outputs": [
    {
     "data": {
      "text/plain": [
       "2"
      ]
     },
     "execution_count": 15,
     "metadata": {},
     "output_type": "execute_result"
    }
   ],
   "source": [
    "x_str = \"10\"\n",
    "len(x_str)"
   ]
  },
  {
   "cell_type": "code",
   "execution_count": 16,
   "metadata": {},
   "outputs": [
    {
     "ename": "TypeError",
     "evalue": "object of type 'int' has no len()",
     "output_type": "error",
     "traceback": [
      "\u001b[1;31m---------------------------------------------------------------------------\u001b[0m",
      "\u001b[1;31mTypeError\u001b[0m                                 Traceback (most recent call last)",
      "\u001b[1;32m<ipython-input-16-d04e9e011381>\u001b[0m in \u001b[0;36m<module>\u001b[1;34m\u001b[0m\n\u001b[0;32m      1\u001b[0m \u001b[0mx_int\u001b[0m \u001b[1;33m=\u001b[0m \u001b[1;36m10\u001b[0m\u001b[1;33m\u001b[0m\u001b[1;33m\u001b[0m\u001b[0m\n\u001b[1;32m----> 2\u001b[1;33m \u001b[0mlen\u001b[0m\u001b[1;33m(\u001b[0m\u001b[0mx_int\u001b[0m\u001b[1;33m)\u001b[0m\u001b[1;33m\u001b[0m\u001b[1;33m\u001b[0m\u001b[0m\n\u001b[0m",
      "\u001b[1;31mTypeError\u001b[0m: object of type 'int' has no len()"
     ]
    }
   ],
   "source": [
    "x_int = 10\n",
    "len(x_int)"
   ]
  },
  {
   "cell_type": "code",
   "execution_count": 18,
   "metadata": {},
   "outputs": [
    {
     "data": {
      "text/plain": [
       "2"
      ]
     },
     "execution_count": 18,
     "metadata": {},
     "output_type": "execute_result"
    }
   ],
   "source": [
    "x_int = 10\n",
    "len(str(x_int))"
   ]
  },
  {
   "cell_type": "markdown",
   "metadata": {},
   "source": [
    "# Feauture Scaling "
   ]
  },
  {
   "cell_type": "raw",
   "metadata": {},
   "source": [
    "Min-Max Normalization\n",
    "Xnew = (Xold - Min)(Max - Min)\n",
    "Standarziation Xnew = (Xold - Mean)/(Standard Deviation)"
   ]
  },
  {
   "cell_type": "code",
   "execution_count": 17,
   "metadata": {},
   "outputs": [],
   "source": [
    "import pandas as pd\n",
    "import numpy as np"
   ]
  },
  {
   "cell_type": "code",
   "execution_count": 44,
   "metadata": {},
   "outputs": [],
   "source": [
    "nwdata = pd.read_csv('networth.csv')"
   ]
  },
  {
   "cell_type": "code",
   "execution_count": 45,
   "metadata": {
    "scrolled": true
   },
   "outputs": [],
   "source": [
    "nwdata.insert(4, \"minmax_nw\", 0 )\n",
    "nwdata.insert(5, \"standardized_nw\", 0)"
   ]
  },
  {
   "cell_type": "code",
   "execution_count": 46,
   "metadata": {
    "scrolled": true
   },
   "outputs": [
    {
     "data": {
      "text/html": [
       "<div>\n",
       "<style scoped>\n",
       "    .dataframe tbody tr th:only-of-type {\n",
       "        vertical-align: middle;\n",
       "    }\n",
       "\n",
       "    .dataframe tbody tr th {\n",
       "        vertical-align: top;\n",
       "    }\n",
       "\n",
       "    .dataframe thead th {\n",
       "        text-align: right;\n",
       "    }\n",
       "</style>\n",
       "<table border=\"1\" class=\"dataframe\">\n",
       "  <thead>\n",
       "    <tr style=\"text-align: right;\">\n",
       "      <th></th>\n",
       "      <th>first_name</th>\n",
       "      <th>age</th>\n",
       "      <th>net_worth</th>\n",
       "      <th>height</th>\n",
       "      <th>minmax_nw</th>\n",
       "      <th>standardized_nw</th>\n",
       "    </tr>\n",
       "  </thead>\n",
       "  <tbody>\n",
       "    <tr>\n",
       "      <th>0</th>\n",
       "      <td>Kennedy</td>\n",
       "      <td>29</td>\n",
       "      <td>1300000</td>\n",
       "      <td>160.4</td>\n",
       "      <td>0</td>\n",
       "      <td>0</td>\n",
       "    </tr>\n",
       "    <tr>\n",
       "      <th>1</th>\n",
       "      <td>Roanna</td>\n",
       "      <td>55</td>\n",
       "      <td>2300000</td>\n",
       "      <td>156.1</td>\n",
       "      <td>0</td>\n",
       "      <td>0</td>\n",
       "    </tr>\n",
       "    <tr>\n",
       "      <th>2</th>\n",
       "      <td>Kim</td>\n",
       "      <td>73</td>\n",
       "      <td>650000</td>\n",
       "      <td>151.1</td>\n",
       "      <td>0</td>\n",
       "      <td>0</td>\n",
       "    </tr>\n",
       "    <tr>\n",
       "      <th>3</th>\n",
       "      <td>Madeline</td>\n",
       "      <td>36</td>\n",
       "      <td>450000</td>\n",
       "      <td>162.9</td>\n",
       "      <td>0</td>\n",
       "      <td>0</td>\n",
       "    </tr>\n",
       "    <tr>\n",
       "      <th>4</th>\n",
       "      <td>Brody</td>\n",
       "      <td>30</td>\n",
       "      <td>1650000</td>\n",
       "      <td>153.0</td>\n",
       "      <td>0</td>\n",
       "      <td>0</td>\n",
       "    </tr>\n",
       "    <tr>\n",
       "      <th>5</th>\n",
       "      <td>Piper</td>\n",
       "      <td>52</td>\n",
       "      <td>2400000</td>\n",
       "      <td>156.7</td>\n",
       "      <td>0</td>\n",
       "      <td>0</td>\n",
       "    </tr>\n",
       "    <tr>\n",
       "      <th>6</th>\n",
       "      <td>Brent</td>\n",
       "      <td>26</td>\n",
       "      <td>1600000</td>\n",
       "      <td>153.8</td>\n",
       "      <td>0</td>\n",
       "      <td>0</td>\n",
       "    </tr>\n",
       "    <tr>\n",
       "      <th>7</th>\n",
       "      <td>Ignacia</td>\n",
       "      <td>55</td>\n",
       "      <td>2200000</td>\n",
       "      <td>171.2</td>\n",
       "      <td>0</td>\n",
       "      <td>0</td>\n",
       "    </tr>\n",
       "    <tr>\n",
       "      <th>8</th>\n",
       "      <td>Benedict</td>\n",
       "      <td>42</td>\n",
       "      <td>1650000</td>\n",
       "      <td>160.7</td>\n",
       "      <td>0</td>\n",
       "      <td>0</td>\n",
       "    </tr>\n",
       "    <tr>\n",
       "      <th>9</th>\n",
       "      <td>MacKensie</td>\n",
       "      <td>49</td>\n",
       "      <td>1050000</td>\n",
       "      <td>154.4</td>\n",
       "      <td>0</td>\n",
       "      <td>0</td>\n",
       "    </tr>\n",
       "    <tr>\n",
       "      <th>10</th>\n",
       "      <td>Elvis</td>\n",
       "      <td>20</td>\n",
       "      <td>600000</td>\n",
       "      <td>163.9</td>\n",
       "      <td>0</td>\n",
       "      <td>0</td>\n",
       "    </tr>\n",
       "    <tr>\n",
       "      <th>11</th>\n",
       "      <td>Joan</td>\n",
       "      <td>58</td>\n",
       "      <td>2000000</td>\n",
       "      <td>159.4</td>\n",
       "      <td>0</td>\n",
       "      <td>0</td>\n",
       "    </tr>\n",
       "    <tr>\n",
       "      <th>12</th>\n",
       "      <td>Fulton</td>\n",
       "      <td>47</td>\n",
       "      <td>2100000</td>\n",
       "      <td>167.5</td>\n",
       "      <td>0</td>\n",
       "      <td>0</td>\n",
       "    </tr>\n",
       "    <tr>\n",
       "      <th>13</th>\n",
       "      <td>Jane</td>\n",
       "      <td>52</td>\n",
       "      <td>2150000</td>\n",
       "      <td>150.8</td>\n",
       "      <td>0</td>\n",
       "      <td>0</td>\n",
       "    </tr>\n",
       "    <tr>\n",
       "      <th>14</th>\n",
       "      <td>Barbara</td>\n",
       "      <td>28</td>\n",
       "      <td>1700000</td>\n",
       "      <td>159.3</td>\n",
       "      <td>0</td>\n",
       "      <td>0</td>\n",
       "    </tr>\n",
       "    <tr>\n",
       "      <th>15</th>\n",
       "      <td>Matthew</td>\n",
       "      <td>57</td>\n",
       "      <td>2500000</td>\n",
       "      <td>155.7</td>\n",
       "      <td>0</td>\n",
       "      <td>0</td>\n",
       "    </tr>\n",
       "    <tr>\n",
       "      <th>16</th>\n",
       "      <td>Eleanor</td>\n",
       "      <td>20</td>\n",
       "      <td>700000</td>\n",
       "      <td>150.1</td>\n",
       "      <td>0</td>\n",
       "      <td>0</td>\n",
       "    </tr>\n",
       "    <tr>\n",
       "      <th>17</th>\n",
       "      <td>Chiquita</td>\n",
       "      <td>39</td>\n",
       "      <td>1500000</td>\n",
       "      <td>162.6</td>\n",
       "      <td>0</td>\n",
       "      <td>0</td>\n",
       "    </tr>\n",
       "    <tr>\n",
       "      <th>18</th>\n",
       "      <td>Quemby</td>\n",
       "      <td>23</td>\n",
       "      <td>1000000</td>\n",
       "      <td>168.9</td>\n",
       "      <td>0</td>\n",
       "      <td>0</td>\n",
       "    </tr>\n",
       "    <tr>\n",
       "      <th>19</th>\n",
       "      <td>Ralph</td>\n",
       "      <td>20</td>\n",
       "      <td>7500000</td>\n",
       "      <td>161.1</td>\n",
       "      <td>0</td>\n",
       "      <td>0</td>\n",
       "    </tr>\n",
       "    <tr>\n",
       "      <th>20</th>\n",
       "      <td>Kyla</td>\n",
       "      <td>27</td>\n",
       "      <td>1250000</td>\n",
       "      <td>155.4</td>\n",
       "      <td>0</td>\n",
       "      <td>0</td>\n",
       "    </tr>\n",
       "    <tr>\n",
       "      <th>21</th>\n",
       "      <td>Wade</td>\n",
       "      <td>29</td>\n",
       "      <td>1300000</td>\n",
       "      <td>159.8</td>\n",
       "      <td>0</td>\n",
       "      <td>0</td>\n",
       "    </tr>\n",
       "    <tr>\n",
       "      <th>22</th>\n",
       "      <td>Lavinia</td>\n",
       "      <td>20</td>\n",
       "      <td>650000</td>\n",
       "      <td>167.0</td>\n",
       "      <td>0</td>\n",
       "      <td>0</td>\n",
       "    </tr>\n",
       "    <tr>\n",
       "      <th>23</th>\n",
       "      <td>Camden</td>\n",
       "      <td>22</td>\n",
       "      <td>900000</td>\n",
       "      <td>159.3</td>\n",
       "      <td>0</td>\n",
       "      <td>0</td>\n",
       "    </tr>\n",
       "    <tr>\n",
       "      <th>24</th>\n",
       "      <td>Camilla</td>\n",
       "      <td>34</td>\n",
       "      <td>1350000</td>\n",
       "      <td>151.8</td>\n",
       "      <td>0</td>\n",
       "      <td>0</td>\n",
       "    </tr>\n",
       "    <tr>\n",
       "      <th>25</th>\n",
       "      <td>Daquan</td>\n",
       "      <td>27</td>\n",
       "      <td>850000</td>\n",
       "      <td>164.3</td>\n",
       "      <td>0</td>\n",
       "      <td>0</td>\n",
       "    </tr>\n",
       "    <tr>\n",
       "      <th>26</th>\n",
       "      <td>Dexter</td>\n",
       "      <td>38</td>\n",
       "      <td>2250000</td>\n",
       "      <td>159.0</td>\n",
       "      <td>0</td>\n",
       "      <td>0</td>\n",
       "    </tr>\n",
       "    <tr>\n",
       "      <th>27</th>\n",
       "      <td>Yasir</td>\n",
       "      <td>47</td>\n",
       "      <td>2300000</td>\n",
       "      <td>151.8</td>\n",
       "      <td>0</td>\n",
       "      <td>0</td>\n",
       "    </tr>\n",
       "    <tr>\n",
       "      <th>28</th>\n",
       "      <td>Tyler</td>\n",
       "      <td>39</td>\n",
       "      <td>1200000</td>\n",
       "      <td>160.6</td>\n",
       "      <td>0</td>\n",
       "      <td>0</td>\n",
       "    </tr>\n",
       "    <tr>\n",
       "      <th>29</th>\n",
       "      <td>Gannon</td>\n",
       "      <td>45</td>\n",
       "      <td>2400000</td>\n",
       "      <td>171.6</td>\n",
       "      <td>0</td>\n",
       "      <td>0</td>\n",
       "    </tr>\n",
       "    <tr>\n",
       "      <th>30</th>\n",
       "      <td>Luke</td>\n",
       "      <td>41</td>\n",
       "      <td>1600000</td>\n",
       "      <td>153.0</td>\n",
       "      <td>0</td>\n",
       "      <td>0</td>\n",
       "    </tr>\n",
       "    <tr>\n",
       "      <th>31</th>\n",
       "      <td>Fitzgerald</td>\n",
       "      <td>27</td>\n",
       "      <td>800000</td>\n",
       "      <td>156.2</td>\n",
       "      <td>0</td>\n",
       "      <td>0</td>\n",
       "    </tr>\n",
       "    <tr>\n",
       "      <th>32</th>\n",
       "      <td>Lacey</td>\n",
       "      <td>25</td>\n",
       "      <td>1350000</td>\n",
       "      <td>172.5</td>\n",
       "      <td>0</td>\n",
       "      <td>0</td>\n",
       "    </tr>\n",
       "    <tr>\n",
       "      <th>33</th>\n",
       "      <td>Kylee</td>\n",
       "      <td>53</td>\n",
       "      <td>2500000</td>\n",
       "      <td>153.3</td>\n",
       "      <td>0</td>\n",
       "      <td>0</td>\n",
       "    </tr>\n",
       "    <tr>\n",
       "      <th>34</th>\n",
       "      <td>Tatyana</td>\n",
       "      <td>37</td>\n",
       "      <td>1700000</td>\n",
       "      <td>152.1</td>\n",
       "      <td>0</td>\n",
       "      <td>0</td>\n",
       "    </tr>\n",
       "    <tr>\n",
       "      <th>35</th>\n",
       "      <td>Yen</td>\n",
       "      <td>34</td>\n",
       "      <td>1750000</td>\n",
       "      <td>157.5</td>\n",
       "      <td>0</td>\n",
       "      <td>0</td>\n",
       "    </tr>\n",
       "    <tr>\n",
       "      <th>36</th>\n",
       "      <td>Aileen</td>\n",
       "      <td>38</td>\n",
       "      <td>2450000</td>\n",
       "      <td>165.9</td>\n",
       "      <td>0</td>\n",
       "      <td>0</td>\n",
       "    </tr>\n",
       "  </tbody>\n",
       "</table>\n",
       "</div>"
      ],
      "text/plain": [
       "    first_name  age  net_worth  height  minmax_nw  standardized_nw\n",
       "0      Kennedy   29    1300000   160.4          0                0\n",
       "1       Roanna   55    2300000   156.1          0                0\n",
       "2          Kim   73     650000   151.1          0                0\n",
       "3     Madeline   36     450000   162.9          0                0\n",
       "4        Brody   30    1650000   153.0          0                0\n",
       "5        Piper   52    2400000   156.7          0                0\n",
       "6        Brent   26    1600000   153.8          0                0\n",
       "7      Ignacia   55    2200000   171.2          0                0\n",
       "8     Benedict   42    1650000   160.7          0                0\n",
       "9    MacKensie   49    1050000   154.4          0                0\n",
       "10       Elvis   20     600000   163.9          0                0\n",
       "11        Joan   58    2000000   159.4          0                0\n",
       "12      Fulton   47    2100000   167.5          0                0\n",
       "13        Jane   52    2150000   150.8          0                0\n",
       "14     Barbara   28    1700000   159.3          0                0\n",
       "15     Matthew   57    2500000   155.7          0                0\n",
       "16     Eleanor   20     700000   150.1          0                0\n",
       "17    Chiquita   39    1500000   162.6          0                0\n",
       "18      Quemby   23    1000000   168.9          0                0\n",
       "19       Ralph   20    7500000   161.1          0                0\n",
       "20        Kyla   27    1250000   155.4          0                0\n",
       "21        Wade   29    1300000   159.8          0                0\n",
       "22     Lavinia   20     650000   167.0          0                0\n",
       "23      Camden   22     900000   159.3          0                0\n",
       "24     Camilla   34    1350000   151.8          0                0\n",
       "25      Daquan   27     850000   164.3          0                0\n",
       "26      Dexter   38    2250000   159.0          0                0\n",
       "27       Yasir   47    2300000   151.8          0                0\n",
       "28       Tyler   39    1200000   160.6          0                0\n",
       "29      Gannon   45    2400000   171.6          0                0\n",
       "30        Luke   41    1600000   153.0          0                0\n",
       "31  Fitzgerald   27     800000   156.2          0                0\n",
       "32       Lacey   25    1350000   172.5          0                0\n",
       "33       Kylee   53    2500000   153.3          0                0\n",
       "34     Tatyana   37    1700000   152.1          0                0\n",
       "35         Yen   34    1750000   157.5          0                0\n",
       "36      Aileen   38    2450000   165.9          0                0"
      ]
     },
     "execution_count": 46,
     "metadata": {},
     "output_type": "execute_result"
    }
   ],
   "source": [
    "nwdata"
   ]
  },
  {
   "cell_type": "code",
   "execution_count": 49,
   "metadata": {},
   "outputs": [],
   "source": [
    "nwdata.minmax_nw = (nwdata.net_worth - min(nwdata.net_worth))/(max(nwdata.net_worth)-min(nwdata.net_worth))\n",
    "nwdata.standardized_nw = (nwdata.net_worth - np.mean(nwdata.net_worth))/(np.std(nwdata.net_worth))"
   ]
  },
  {
   "cell_type": "code",
   "execution_count": 50,
   "metadata": {},
   "outputs": [
    {
     "data": {
      "text/html": [
       "<div>\n",
       "<style scoped>\n",
       "    .dataframe tbody tr th:only-of-type {\n",
       "        vertical-align: middle;\n",
       "    }\n",
       "\n",
       "    .dataframe tbody tr th {\n",
       "        vertical-align: top;\n",
       "    }\n",
       "\n",
       "    .dataframe thead th {\n",
       "        text-align: right;\n",
       "    }\n",
       "</style>\n",
       "<table border=\"1\" class=\"dataframe\">\n",
       "  <thead>\n",
       "    <tr style=\"text-align: right;\">\n",
       "      <th></th>\n",
       "      <th>first_name</th>\n",
       "      <th>age</th>\n",
       "      <th>net_worth</th>\n",
       "      <th>height</th>\n",
       "      <th>minmax_nw</th>\n",
       "      <th>standardized_nw</th>\n",
       "    </tr>\n",
       "  </thead>\n",
       "  <tbody>\n",
       "    <tr>\n",
       "      <th>0</th>\n",
       "      <td>Kennedy</td>\n",
       "      <td>29</td>\n",
       "      <td>1300000</td>\n",
       "      <td>160.4</td>\n",
       "      <td>0.120567</td>\n",
       "      <td>-0.366572</td>\n",
       "    </tr>\n",
       "    <tr>\n",
       "      <th>1</th>\n",
       "      <td>Roanna</td>\n",
       "      <td>55</td>\n",
       "      <td>2300000</td>\n",
       "      <td>156.1</td>\n",
       "      <td>0.262411</td>\n",
       "      <td>0.508471</td>\n",
       "    </tr>\n",
       "    <tr>\n",
       "      <th>2</th>\n",
       "      <td>Kim</td>\n",
       "      <td>73</td>\n",
       "      <td>650000</td>\n",
       "      <td>151.1</td>\n",
       "      <td>0.028369</td>\n",
       "      <td>-0.935350</td>\n",
       "    </tr>\n",
       "    <tr>\n",
       "      <th>3</th>\n",
       "      <td>Madeline</td>\n",
       "      <td>36</td>\n",
       "      <td>450000</td>\n",
       "      <td>162.9</td>\n",
       "      <td>0.000000</td>\n",
       "      <td>-1.110359</td>\n",
       "    </tr>\n",
       "    <tr>\n",
       "      <th>4</th>\n",
       "      <td>Brody</td>\n",
       "      <td>30</td>\n",
       "      <td>1650000</td>\n",
       "      <td>153.0</td>\n",
       "      <td>0.170213</td>\n",
       "      <td>-0.060307</td>\n",
       "    </tr>\n",
       "    <tr>\n",
       "      <th>5</th>\n",
       "      <td>Piper</td>\n",
       "      <td>52</td>\n",
       "      <td>2400000</td>\n",
       "      <td>156.7</td>\n",
       "      <td>0.276596</td>\n",
       "      <td>0.595975</td>\n",
       "    </tr>\n",
       "    <tr>\n",
       "      <th>6</th>\n",
       "      <td>Brent</td>\n",
       "      <td>26</td>\n",
       "      <td>1600000</td>\n",
       "      <td>153.8</td>\n",
       "      <td>0.163121</td>\n",
       "      <td>-0.104059</td>\n",
       "    </tr>\n",
       "    <tr>\n",
       "      <th>7</th>\n",
       "      <td>Ignacia</td>\n",
       "      <td>55</td>\n",
       "      <td>2200000</td>\n",
       "      <td>171.2</td>\n",
       "      <td>0.248227</td>\n",
       "      <td>0.420967</td>\n",
       "    </tr>\n",
       "    <tr>\n",
       "      <th>8</th>\n",
       "      <td>Benedict</td>\n",
       "      <td>42</td>\n",
       "      <td>1650000</td>\n",
       "      <td>160.7</td>\n",
       "      <td>0.170213</td>\n",
       "      <td>-0.060307</td>\n",
       "    </tr>\n",
       "    <tr>\n",
       "      <th>9</th>\n",
       "      <td>MacKensie</td>\n",
       "      <td>49</td>\n",
       "      <td>1050000</td>\n",
       "      <td>154.4</td>\n",
       "      <td>0.085106</td>\n",
       "      <td>-0.585333</td>\n",
       "    </tr>\n",
       "    <tr>\n",
       "      <th>10</th>\n",
       "      <td>Elvis</td>\n",
       "      <td>20</td>\n",
       "      <td>600000</td>\n",
       "      <td>163.9</td>\n",
       "      <td>0.021277</td>\n",
       "      <td>-0.979102</td>\n",
       "    </tr>\n",
       "    <tr>\n",
       "      <th>11</th>\n",
       "      <td>Joan</td>\n",
       "      <td>58</td>\n",
       "      <td>2000000</td>\n",
       "      <td>159.4</td>\n",
       "      <td>0.219858</td>\n",
       "      <td>0.245958</td>\n",
       "    </tr>\n",
       "    <tr>\n",
       "      <th>12</th>\n",
       "      <td>Fulton</td>\n",
       "      <td>47</td>\n",
       "      <td>2100000</td>\n",
       "      <td>167.5</td>\n",
       "      <td>0.234043</td>\n",
       "      <td>0.333462</td>\n",
       "    </tr>\n",
       "    <tr>\n",
       "      <th>13</th>\n",
       "      <td>Jane</td>\n",
       "      <td>52</td>\n",
       "      <td>2150000</td>\n",
       "      <td>150.8</td>\n",
       "      <td>0.241135</td>\n",
       "      <td>0.377215</td>\n",
       "    </tr>\n",
       "    <tr>\n",
       "      <th>14</th>\n",
       "      <td>Barbara</td>\n",
       "      <td>28</td>\n",
       "      <td>1700000</td>\n",
       "      <td>159.3</td>\n",
       "      <td>0.177305</td>\n",
       "      <td>-0.016555</td>\n",
       "    </tr>\n",
       "    <tr>\n",
       "      <th>15</th>\n",
       "      <td>Matthew</td>\n",
       "      <td>57</td>\n",
       "      <td>2500000</td>\n",
       "      <td>155.7</td>\n",
       "      <td>0.290780</td>\n",
       "      <td>0.683480</td>\n",
       "    </tr>\n",
       "    <tr>\n",
       "      <th>16</th>\n",
       "      <td>Eleanor</td>\n",
       "      <td>20</td>\n",
       "      <td>700000</td>\n",
       "      <td>150.1</td>\n",
       "      <td>0.035461</td>\n",
       "      <td>-0.891598</td>\n",
       "    </tr>\n",
       "    <tr>\n",
       "      <th>17</th>\n",
       "      <td>Chiquita</td>\n",
       "      <td>39</td>\n",
       "      <td>1500000</td>\n",
       "      <td>162.6</td>\n",
       "      <td>0.148936</td>\n",
       "      <td>-0.191564</td>\n",
       "    </tr>\n",
       "    <tr>\n",
       "      <th>18</th>\n",
       "      <td>Quemby</td>\n",
       "      <td>23</td>\n",
       "      <td>1000000</td>\n",
       "      <td>168.9</td>\n",
       "      <td>0.078014</td>\n",
       "      <td>-0.629085</td>\n",
       "    </tr>\n",
       "    <tr>\n",
       "      <th>19</th>\n",
       "      <td>Ralph</td>\n",
       "      <td>20</td>\n",
       "      <td>7500000</td>\n",
       "      <td>161.1</td>\n",
       "      <td>1.000000</td>\n",
       "      <td>5.058696</td>\n",
       "    </tr>\n",
       "    <tr>\n",
       "      <th>20</th>\n",
       "      <td>Kyla</td>\n",
       "      <td>27</td>\n",
       "      <td>1250000</td>\n",
       "      <td>155.4</td>\n",
       "      <td>0.113475</td>\n",
       "      <td>-0.410324</td>\n",
       "    </tr>\n",
       "    <tr>\n",
       "      <th>21</th>\n",
       "      <td>Wade</td>\n",
       "      <td>29</td>\n",
       "      <td>1300000</td>\n",
       "      <td>159.8</td>\n",
       "      <td>0.120567</td>\n",
       "      <td>-0.366572</td>\n",
       "    </tr>\n",
       "    <tr>\n",
       "      <th>22</th>\n",
       "      <td>Lavinia</td>\n",
       "      <td>20</td>\n",
       "      <td>650000</td>\n",
       "      <td>167.0</td>\n",
       "      <td>0.028369</td>\n",
       "      <td>-0.935350</td>\n",
       "    </tr>\n",
       "    <tr>\n",
       "      <th>23</th>\n",
       "      <td>Camden</td>\n",
       "      <td>22</td>\n",
       "      <td>900000</td>\n",
       "      <td>159.3</td>\n",
       "      <td>0.063830</td>\n",
       "      <td>-0.716589</td>\n",
       "    </tr>\n",
       "    <tr>\n",
       "      <th>24</th>\n",
       "      <td>Camilla</td>\n",
       "      <td>34</td>\n",
       "      <td>1350000</td>\n",
       "      <td>151.8</td>\n",
       "      <td>0.127660</td>\n",
       "      <td>-0.322820</td>\n",
       "    </tr>\n",
       "    <tr>\n",
       "      <th>25</th>\n",
       "      <td>Daquan</td>\n",
       "      <td>27</td>\n",
       "      <td>850000</td>\n",
       "      <td>164.3</td>\n",
       "      <td>0.056738</td>\n",
       "      <td>-0.760342</td>\n",
       "    </tr>\n",
       "    <tr>\n",
       "      <th>26</th>\n",
       "      <td>Dexter</td>\n",
       "      <td>38</td>\n",
       "      <td>2250000</td>\n",
       "      <td>159.0</td>\n",
       "      <td>0.255319</td>\n",
       "      <td>0.464719</td>\n",
       "    </tr>\n",
       "    <tr>\n",
       "      <th>27</th>\n",
       "      <td>Yasir</td>\n",
       "      <td>47</td>\n",
       "      <td>2300000</td>\n",
       "      <td>151.8</td>\n",
       "      <td>0.262411</td>\n",
       "      <td>0.508471</td>\n",
       "    </tr>\n",
       "    <tr>\n",
       "      <th>28</th>\n",
       "      <td>Tyler</td>\n",
       "      <td>39</td>\n",
       "      <td>1200000</td>\n",
       "      <td>160.6</td>\n",
       "      <td>0.106383</td>\n",
       "      <td>-0.454076</td>\n",
       "    </tr>\n",
       "    <tr>\n",
       "      <th>29</th>\n",
       "      <td>Gannon</td>\n",
       "      <td>45</td>\n",
       "      <td>2400000</td>\n",
       "      <td>171.6</td>\n",
       "      <td>0.276596</td>\n",
       "      <td>0.595975</td>\n",
       "    </tr>\n",
       "    <tr>\n",
       "      <th>30</th>\n",
       "      <td>Luke</td>\n",
       "      <td>41</td>\n",
       "      <td>1600000</td>\n",
       "      <td>153.0</td>\n",
       "      <td>0.163121</td>\n",
       "      <td>-0.104059</td>\n",
       "    </tr>\n",
       "    <tr>\n",
       "      <th>31</th>\n",
       "      <td>Fitzgerald</td>\n",
       "      <td>27</td>\n",
       "      <td>800000</td>\n",
       "      <td>156.2</td>\n",
       "      <td>0.049645</td>\n",
       "      <td>-0.804094</td>\n",
       "    </tr>\n",
       "    <tr>\n",
       "      <th>32</th>\n",
       "      <td>Lacey</td>\n",
       "      <td>25</td>\n",
       "      <td>1350000</td>\n",
       "      <td>172.5</td>\n",
       "      <td>0.127660</td>\n",
       "      <td>-0.322820</td>\n",
       "    </tr>\n",
       "    <tr>\n",
       "      <th>33</th>\n",
       "      <td>Kylee</td>\n",
       "      <td>53</td>\n",
       "      <td>2500000</td>\n",
       "      <td>153.3</td>\n",
       "      <td>0.290780</td>\n",
       "      <td>0.683480</td>\n",
       "    </tr>\n",
       "    <tr>\n",
       "      <th>34</th>\n",
       "      <td>Tatyana</td>\n",
       "      <td>37</td>\n",
       "      <td>1700000</td>\n",
       "      <td>152.1</td>\n",
       "      <td>0.177305</td>\n",
       "      <td>-0.016555</td>\n",
       "    </tr>\n",
       "    <tr>\n",
       "      <th>35</th>\n",
       "      <td>Yen</td>\n",
       "      <td>34</td>\n",
       "      <td>1750000</td>\n",
       "      <td>157.5</td>\n",
       "      <td>0.184397</td>\n",
       "      <td>0.027197</td>\n",
       "    </tr>\n",
       "    <tr>\n",
       "      <th>36</th>\n",
       "      <td>Aileen</td>\n",
       "      <td>38</td>\n",
       "      <td>2450000</td>\n",
       "      <td>165.9</td>\n",
       "      <td>0.283688</td>\n",
       "      <td>0.639728</td>\n",
       "    </tr>\n",
       "  </tbody>\n",
       "</table>\n",
       "</div>"
      ],
      "text/plain": [
       "    first_name  age  net_worth  height  minmax_nw  standardized_nw\n",
       "0      Kennedy   29    1300000   160.4   0.120567        -0.366572\n",
       "1       Roanna   55    2300000   156.1   0.262411         0.508471\n",
       "2          Kim   73     650000   151.1   0.028369        -0.935350\n",
       "3     Madeline   36     450000   162.9   0.000000        -1.110359\n",
       "4        Brody   30    1650000   153.0   0.170213        -0.060307\n",
       "5        Piper   52    2400000   156.7   0.276596         0.595975\n",
       "6        Brent   26    1600000   153.8   0.163121        -0.104059\n",
       "7      Ignacia   55    2200000   171.2   0.248227         0.420967\n",
       "8     Benedict   42    1650000   160.7   0.170213        -0.060307\n",
       "9    MacKensie   49    1050000   154.4   0.085106        -0.585333\n",
       "10       Elvis   20     600000   163.9   0.021277        -0.979102\n",
       "11        Joan   58    2000000   159.4   0.219858         0.245958\n",
       "12      Fulton   47    2100000   167.5   0.234043         0.333462\n",
       "13        Jane   52    2150000   150.8   0.241135         0.377215\n",
       "14     Barbara   28    1700000   159.3   0.177305        -0.016555\n",
       "15     Matthew   57    2500000   155.7   0.290780         0.683480\n",
       "16     Eleanor   20     700000   150.1   0.035461        -0.891598\n",
       "17    Chiquita   39    1500000   162.6   0.148936        -0.191564\n",
       "18      Quemby   23    1000000   168.9   0.078014        -0.629085\n",
       "19       Ralph   20    7500000   161.1   1.000000         5.058696\n",
       "20        Kyla   27    1250000   155.4   0.113475        -0.410324\n",
       "21        Wade   29    1300000   159.8   0.120567        -0.366572\n",
       "22     Lavinia   20     650000   167.0   0.028369        -0.935350\n",
       "23      Camden   22     900000   159.3   0.063830        -0.716589\n",
       "24     Camilla   34    1350000   151.8   0.127660        -0.322820\n",
       "25      Daquan   27     850000   164.3   0.056738        -0.760342\n",
       "26      Dexter   38    2250000   159.0   0.255319         0.464719\n",
       "27       Yasir   47    2300000   151.8   0.262411         0.508471\n",
       "28       Tyler   39    1200000   160.6   0.106383        -0.454076\n",
       "29      Gannon   45    2400000   171.6   0.276596         0.595975\n",
       "30        Luke   41    1600000   153.0   0.163121        -0.104059\n",
       "31  Fitzgerald   27     800000   156.2   0.049645        -0.804094\n",
       "32       Lacey   25    1350000   172.5   0.127660        -0.322820\n",
       "33       Kylee   53    2500000   153.3   0.290780         0.683480\n",
       "34     Tatyana   37    1700000   152.1   0.177305        -0.016555\n",
       "35         Yen   34    1750000   157.5   0.184397         0.027197\n",
       "36      Aileen   38    2450000   165.9   0.283688         0.639728"
      ]
     },
     "execution_count": 50,
     "metadata": {},
     "output_type": "execute_result"
    }
   ],
   "source": [
    "nwdata"
   ]
  },
  {
   "cell_type": "markdown",
   "metadata": {},
   "source": [
    "# Interaction Features"
   ]
  },
  {
   "cell_type": "code",
   "execution_count": 31,
   "metadata": {},
   "outputs": [],
   "source": [
    "import numpy as np\n",
    "import matplotlib.pyplot as plt\n",
    "import pandas as pd\n",
    "from sklearn.linear_model import LinearRegression"
   ]
  },
  {
   "cell_type": "code",
   "execution_count": 21,
   "metadata": {},
   "outputs": [],
   "source": [
    "nwdata = pd.read_csv('networth.csv')"
   ]
  },
  {
   "cell_type": "code",
   "execution_count": 51,
   "metadata": {},
   "outputs": [
    {
     "data": {
      "image/png": "[encoded data removed]",
      "text/plain": [
       "<Figure size 432x288 with 1 Axes>"
      ]
     },
     "metadata": {
      "needs_background": "light"
     },
     "output_type": "display_data"
    }
   ],
   "source": [
    "# Scatter plot code\n",
    "x = np.array(nwdata.age).reshape(-1,1)\n",
    "y = nwdata.net_worth\n",
    "\n",
    "plt.scatter(x,y)\n",
    "plt.title('Networh vs. Age')\n",
    "plt.xlabel('Age')\n",
    "plt.ylabel('Net Worth (PhP)')\n",
    "plt.show()"
   ]
  },
  {
   "cell_type": "code",
   "execution_count": 52,
   "metadata": {},
   "outputs": [
    {
     "data": {
      "image/png": "[encoded data removed]",
      "text/plain": [
       "<Figure size 432x288 with 1 Axes>"
      ]
     },
     "metadata": {
      "needs_background": "light"
     },
     "output_type": "display_data"
    },
    {
     "name": "stdout",
     "output_type": "stream",
     "text": [
      "coefficient of determination: 0.009456853262893361\n"
     ]
    }
   ],
   "source": [
    "# Linear Regression Code\n",
    "model = LinearRegression()\n",
    "model.fit(x,y)\n",
    "y_pred = model.predict(x)\n",
    "plt.scatter(x,y)\n",
    "plt.plot(x,y_pred,color = 'red')\n",
    "plt.show()\n",
    "r_sq = model.score(x,y)\n",
    "print('coefficient of determination:', r_sq)"
   ]
  },
  {
   "cell_type": "code",
   "execution_count": 53,
   "metadata": {
    "scrolled": true
   },
   "outputs": [
    {
     "data": {
      "text/plain": [
       "<seaborn.axisgrid.PairGrid at 0x1f0f5e37100>"
      ]
     },
     "execution_count": 53,
     "metadata": {},
     "output_type": "execute_result"
    },
    {
     "data": {
      "image/png": "[encoded data removed]",
      "text/plain": [
       "<Figure size 900x900 with 30 Axes>"
      ]
     },
     "metadata": {
      "needs_background": "light"
     },
     "output_type": "display_data"
    }
   ],
   "source": [
    "# Pair Plot\n",
    "import seaborn as sns\n",
    "sns.pairplot(nwdata)"
   ]
  },
  {
   "cell_type": "markdown",
   "metadata": {},
   "source": [
    "# Engineering Date Time Variables"
   ]
  },
  {
   "cell_type": "code",
   "execution_count": 2,
   "metadata": {},
   "outputs": [],
   "source": [
    "import pandas as pd"
   ]
  },
  {
   "cell_type": "code",
   "execution_count": null,
   "metadata": {},
   "outputs": [],
   "source": [
    "ufodata = pd.read_csv('ufo.csv')"
   ]
  },
  {
   "cell_type": "code",
   "execution_count": null,
   "metadata": {},
   "outputs": [],
   "source": [
    "ufodata.head()"
   ]
  },
  {
   "cell_type": "code",
   "execution_count": null,
   "metadata": {},
   "outputs": [],
   "source": [
    "ufodata.dtypes"
   ]
  },
  {
   "cell_type": "code",
   "execution_count": null,
   "metadata": {},
   "outputs": [],
   "source": [
    "ufodata[\"Time\"] = pd.to_datetime(ufodata.Time)"
   ]
  },
  {
   "cell_type": "code",
   "execution_count": null,
   "metadata": {},
   "outputs": [],
   "source": [
    "ufodata.dtypes"
   ]
  },
  {
   "cell_type": "code",
   "execution_count": null,
   "metadata": {},
   "outputs": [],
   "source": [
    "ufodata.Time.dt.weekday_name[0]"
   ]
  },
  {
   "cell_type": "code",
   "execution_count": null,
   "metadata": {},
   "outputs": [],
   "source": [
    "ufodata.Time.dt.dayofyear[2]"
   ]
  },
  {
   "cell_type": "code",
   "execution_count": null,
   "metadata": {},
   "outputs": [],
   "source": [
    "ufodata_mondays = ufodata[ufodata.Time.dt.weekday_name==\"Monday\"]"
   ]
  },
  {
   "cell_type": "code",
   "execution_count": null,
   "metadata": {},
   "outputs": [],
   "source": [
    "print(ufodata_mondays)"
   ]
  },
  {
   "cell_type": "code",
   "execution_count": null,
   "metadata": {},
   "outputs": [],
   "source": [
    "print(ufodata_mondays.Time.dt.weeekday_name)"
   ]
  },
  {
   "cell_type": "raw",
   "metadata": {},
   "source": [
    "Other DateTimeProperties:\n",
    "dayisinmonth - returns the number of days in a specific month\n",
    "month - returns the month of the specific date\n",
    "Is_leap_year - returns whether or not a specific year is a leap year"
   ]
  }
 ],
 "metadata": {
  "kernelspec": {
   "display_name": "Python 3",
   "language": "python",
   "name": "python3"
  },
  "language_info": {
   "codemirror_mode": {
    "name": "ipython",
    "version": 3
   },
   "file_extension": ".py",
   "mimetype": "text/x-python",
   "name": "python",
   "nbconvert_exporter": "python",
   "pygments_lexer": "ipython3",
   "version": "3.9.4"
  }
 },
 "nbformat": 4,
 "nbformat_minor": 2
}
