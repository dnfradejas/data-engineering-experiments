{
 "cells": [
  {
   "cell_type": "code",
   "execution_count": 1,
   "metadata": {},
   "outputs": [],
   "source": [
    "# insert (juan, cruz, 12345678901, Pilipinas) to customer table"
   ]
  },
  {
   "cell_type": "code",
   "execution_count": 1,
   "metadata": {},
   "outputs": [
    {
     "data": {
      "text/plain": [
       "[(1, 'juan', '12345678901', 'Pilipinas'),\n",
       " (2, 'Jose', '22222222222', 'Pilipinas'),\n",
       " (3, 'Juan', '33333333333', 'Pilipinas')]"
      ]
     },
     "execution_count": 1,
     "metadata": {},
     "output_type": "execute_result"
    }
   ],
   "source": [
    "import psycopg2\n",
    "\n",
    "# connect to postgres\n",
    "conn = psycopg2.connect(\"host=localhost dbname=sparta user=postgres password=Tsuna123!\")\n",
    "cur = conn.cursor()\n",
    "\n",
    "# sql statement\n",
    "cur.execute(\"Select * From Customer\")\n",
    "all = cur.fetchall()\n",
    "all"
   ]
  },
  {
   "cell_type": "code",
   "execution_count": 9,
   "metadata": {},
   "outputs": [],
   "source": [
    "import psycopg2\n",
    "\n",
    "# connect to postgres\n",
    "conn = psycopg2.connect(\"host=localhost dbname=sparta user=postgres password=Tsuna123!\")\n",
    "cur = conn.cursor()\n",
    "\n",
    "# sql statement\n",
    "cur.execute(\"INSERT INTO customer (c_name, c_phonenumber, c_address) VALUES (%s, %s, %s)\",('juan', 12345678901, 'Pilipinas'))\n",
    "conn.commit()\n"
   ]
  },
  {
   "cell_type": "code",
   "execution_count": 11,
   "metadata": {},
   "outputs": [
    {
     "data": {
      "text/plain": [
       "[(1, 'juan', '12345678901', 'Pilipinas')]"
      ]
     },
     "execution_count": 11,
     "metadata": {},
     "output_type": "execute_result"
    }
   ],
   "source": [
    "import psycopg2\n",
    "\n",
    "# connect to postgres\n",
    "conn = psycopg2.connect(\"host=localhost dbname=sparta user=postgres password=Tsuna123!\")\n",
    "cur = conn.cursor()\n",
    "\n",
    "# sql statement\n",
    "cur.execute(\"Select * From customer\")\n",
    "all = cur.fetchall()\n",
    "all"
   ]
  },
  {
   "cell_type": "code",
   "execution_count": 12,
   "metadata": {},
   "outputs": [
    {
     "data": {
      "text/plain": [
       "[]"
      ]
     },
     "execution_count": 12,
     "metadata": {},
     "output_type": "execute_result"
    }
   ],
   "source": [
    "import psycopg2\n",
    "\n",
    "# connect to postgres\n",
    "conn = psycopg2.connect(\"host=localhost dbname=sparta user=postgres password=Tsuna123!\")\n",
    "cur = conn.cursor()\n",
    "\n",
    "# sql statement\n",
    "cur.execute(\"Select * From staff\")\n",
    "all = cur.fetchall()\n",
    "all"
   ]
  },
  {
   "cell_type": "code",
   "execution_count": 13,
   "metadata": {},
   "outputs": [],
   "source": [
    "import psycopg2\n",
    "\n",
    "# connect to postgres\n",
    "conn = psycopg2.connect(\"host=localhost dbname=sparta user=postgres password=Tsuna123!\")\n",
    "cur = conn.cursor()\n",
    "\n",
    "# sql statement\n",
    "cur.execute(\"INSERT INTO staff (s_phonenumber, s_address, salary, join_date) VALUES (%s, %s, %s, %s)\",(12345678901, 'Liwayway', 1200, '05-11-21'))\n",
    "conn.commit()\n"
   ]
  },
  {
   "cell_type": "code",
   "execution_count": 14,
   "metadata": {},
   "outputs": [
    {
     "data": {
      "text/plain": [
       "[(1, '12345678901', 'Liwayway', Decimal('1200'), datetime.date(2021, 5, 11))]"
      ]
     },
     "execution_count": 14,
     "metadata": {},
     "output_type": "execute_result"
    }
   ],
   "source": [
    "import psycopg2\n",
    "\n",
    "# connect to postgres\n",
    "conn = psycopg2.connect(\"host=localhost dbname=sparta user=postgres password=Tsuna123!\")\n",
    "cur = conn.cursor()\n",
    "\n",
    "# sql statement\n",
    "cur.execute(\"Select * From staff\")\n",
    "all = cur.fetchall()\n",
    "all"
   ]
  },
  {
   "cell_type": "code",
   "execution_count": 15,
   "metadata": {},
   "outputs": [],
   "source": [
    "import psycopg2\n",
    "\n",
    "# connect to postgres\n",
    "conn = psycopg2.connect(\"host=localhost dbname=sparta user=postgres password=Tsuna123!\")\n",
    "cur = conn.cursor()\n",
    "\n",
    "# sql statement\n",
    "cur.execute(\"INSERT INTO appointment (customer_id, staff_id, app_date) VALUES (%s, %s, %s)\",(1, 1, '05-11-21'))\n",
    "conn.commit()\n"
   ]
  },
  {
   "cell_type": "code",
   "execution_count": 16,
   "metadata": {},
   "outputs": [
    {
     "data": {
      "text/plain": [
       "[(1, 1, 1, datetime.date(2021, 5, 11))]"
      ]
     },
     "execution_count": 16,
     "metadata": {},
     "output_type": "execute_result"
    }
   ],
   "source": [
    "import psycopg2\n",
    "\n",
    "# connect to postgres\n",
    "conn = psycopg2.connect(\"host=localhost dbname=sparta user=postgres password=Tsuna123!\")\n",
    "cur = conn.cursor()\n",
    "\n",
    "# sql statement\n",
    "cur.execute(\"Select * From appointment\")\n",
    "all = cur.fetchall()\n",
    "all"
   ]
  },
  {
   "cell_type": "code",
   "execution_count": 17,
   "metadata": {},
   "outputs": [],
   "source": [
    "import csv\n",
    "import psycopg2\n",
    "\n",
    "# connect to postgres\n",
    "conn = psycopg2.connect(\"host=localhost dbname=sparta user=postgres password=Tsuna123!\")\n",
    "cur = conn.cursor()\n",
    "\n",
    "with open('customer.csv','r') as f:\n",
    "    reader = csv.reader(f)\n",
    "    next(reader) # skip the header row.\n",
    "    for row in reader:\n",
    "        cur.execute(\n",
    "            \"INSERT INTO customer (c_name, c_phonenumber, c_address) VALUES (%s, %s, %s)\",\n",
    "            row\n",
    "        )\n",
    "conn.commit()"
   ]
  },
  {
   "cell_type": "code",
   "execution_count": 18,
   "metadata": {},
   "outputs": [
    {
     "data": {
      "text/plain": [
       "[(1, 'juan', '12345678901', 'Pilipinas'),\n",
       " (2, 'Jose', '22222222222', 'Pilipinas'),\n",
       " (3, 'Juan', '33333333333', 'Pilipinas')]"
      ]
     },
     "execution_count": 18,
     "metadata": {},
     "output_type": "execute_result"
    }
   ],
   "source": [
    "import psycopg2\n",
    "\n",
    "# connect to postgres\n",
    "conn = psycopg2.connect(\"host=localhost dbname=sparta user=postgres password=Tsuna123!\")\n",
    "cur = conn.cursor()\n",
    "\n",
    "# sql statement\n",
    "cur.execute(\"Select * From customer\")\n",
    "all = cur.fetchall()\n",
    "all"
   ]
  },
  {
   "cell_type": "code",
   "execution_count": 25,
   "metadata": {},
   "outputs": [],
   "source": [
    "import psycopg2\n",
    "\n",
    "# connect to postgres\n",
    "conn = psycopg2.connect(\"host=localhost dbname=sparta user=postgres password=Tsuna123!\")\n",
    "cur = conn.cursor()\n",
    "\n",
    "# sql statement\n",
    "cur.execute(\"Update appointment SET app_date = '10/14/2020' WHERE appointment_id = 1\")\n",
    "conn.commit()"
   ]
  },
  {
   "cell_type": "code",
   "execution_count": 26,
   "metadata": {},
   "outputs": [
    {
     "data": {
      "text/plain": [
       "[(1, 1, 1, datetime.date(2020, 10, 14))]"
      ]
     },
     "execution_count": 26,
     "metadata": {},
     "output_type": "execute_result"
    }
   ],
   "source": [
    "import psycopg2\n",
    "\n",
    "# connect to postgres\n",
    "conn = psycopg2.connect(\"host=localhost dbname=sparta user=postgres password=Tsuna123!\")\n",
    "cur = conn.cursor()\n",
    "\n",
    "# sql statement\n",
    "cur.execute(\"Select * From appointment\")\n",
    "all = cur.fetchall()\n",
    "all"
   ]
  },
  {
   "cell_type": "code",
   "execution_count": null,
   "metadata": {},
   "outputs": [],
   "source": []
  }
 ],
 "metadata": {
  "kernelspec": {
   "display_name": "Python 3",
   "language": "python",
   "name": "python3"
  },
  "language_info": {
   "codemirror_mode": {
    "name": "ipython",
    "version": 3
   },
   "file_extension": ".py",
   "mimetype": "text/x-python",
   "name": "python",
   "nbconvert_exporter": "python",
   "pygments_lexer": "ipython3",
   "version": "3.7.4"
  }
 },
 "nbformat": 4,
 "nbformat_minor": 2
}
